{
  "nbformat": 4,
  "nbformat_minor": 0,
  "metadata": {
    "colab": {
      "name": "Jaya Center Molecular Studies.ipynb",
      "provenance": [],
      "authorship_tag": "ABX9TyMfIRaVEF/mKiTBcdAmQcrq",
      "include_colab_link": true
    },
    "kernelspec": {
      "name": "python3",
      "display_name": "Python 3"
    },
    "language_info": {
      "name": "python"
    }
  },
  "cells": [
    {
      "cell_type": "markdown",
      "metadata": {
        "id": "view-in-github",
        "colab_type": "text"
      },
      "source": [
        "<a href=\"https://colab.research.google.com/github/regille/Data-digital-transformation-activity-/blob/main/Jaya_Center_Molecular_Studies.ipynb\" target=\"_parent\"><img src=\"https://colab.research.google.com/assets/colab-badge.svg\" alt=\"Open In Colab\"/></a>"
      ]
    },
    {
      "cell_type": "markdown",
      "metadata": {
        "id": "tZQvSPm0h2JP"
      },
      "source": [
        "# Load the Diabetes dataset (via scikit-learn) "
      ]
    },
    {
      "cell_type": "markdown",
      "metadata": {
        "id": "zZ7OKgwykw5Y"
      },
      "source": [
        "# Import Library"
      ]
    },
    {
      "cell_type": "code",
      "metadata": {
        "id": "OpVm55PbjCS4"
      },
      "source": [
        "from sklearn import datasets "
      ],
      "execution_count": 1,
      "outputs": []
    },
    {
      "cell_type": "markdown",
      "metadata": {
        "id": "s51rdKLUlCG1"
      },
      "source": [
        "# Load dataset"
      ]
    },
    {
      "cell_type": "code",
      "metadata": {
        "id": "L1yVrBKWmlvj"
      },
      "source": [
        "diabetes = datasets.load_diabetes()"
      ],
      "execution_count": 2,
      "outputs": []
    },
    {
      "cell_type": "code",
      "metadata": {
        "colab": {
          "base_uri": "https://localhost:8080/"
        },
        "id": "6RovwO2WnAdL",
        "outputId": "941fd9ca-13e0-4870-e9c4-985b83f51b79"
      },
      "source": [
        "diabetes"
      ],
      "execution_count": 3,
      "outputs": [
        {
          "output_type": "execute_result",
          "data": {
            "text/plain": [
              "{'DESCR': '.. _diabetes_dataset:\\n\\nDiabetes dataset\\n----------------\\n\\nTen baseline variables, age, sex, body mass index, average blood\\npressure, and six blood serum measurements were obtained for each of n =\\n442 diabetes patients, as well as the response of interest, a\\nquantitative measure of disease progression one year after baseline.\\n\\n**Data Set Characteristics:**\\n\\n  :Number of Instances: 442\\n\\n  :Number of Attributes: First 10 columns are numeric predictive values\\n\\n  :Target: Column 11 is a quantitative measure of disease progression one year after baseline\\n\\n  :Attribute Information:\\n      - Age\\n      - Sex\\n      - Body mass index\\n      - Average blood pressure\\n      - S1\\n      - S2\\n      - S3\\n      - S4\\n      - S5\\n      - S6\\n\\nNote: Each of these 10 feature variables have been mean centered and scaled by the standard deviation times `n_samples` (i.e. the sum of squares of each column totals 1).\\n\\nSource URL:\\nhttps://www4.stat.ncsu.edu/~boos/var.select/diabetes.html\\n\\nFor more information see:\\nBradley Efron, Trevor Hastie, Iain Johnstone and Robert Tibshirani (2004) \"Least Angle Regression,\" Annals of Statistics (with discussion), 407-499.\\n(https://web.stanford.edu/~hastie/Papers/LARS/LeastAngle_2002.pdf)',\n",
              " 'data': array([[ 0.03807591,  0.05068012,  0.06169621, ..., -0.00259226,\n",
              "          0.01990842, -0.01764613],\n",
              "        [-0.00188202, -0.04464164, -0.05147406, ..., -0.03949338,\n",
              "         -0.06832974, -0.09220405],\n",
              "        [ 0.08529891,  0.05068012,  0.04445121, ..., -0.00259226,\n",
              "          0.00286377, -0.02593034],\n",
              "        ...,\n",
              "        [ 0.04170844,  0.05068012, -0.01590626, ..., -0.01107952,\n",
              "         -0.04687948,  0.01549073],\n",
              "        [-0.04547248, -0.04464164,  0.03906215, ...,  0.02655962,\n",
              "          0.04452837, -0.02593034],\n",
              "        [-0.04547248, -0.04464164, -0.0730303 , ..., -0.03949338,\n",
              "         -0.00421986,  0.00306441]]),\n",
              " 'data_filename': '/usr/local/lib/python3.7/dist-packages/sklearn/datasets/data/diabetes_data.csv.gz',\n",
              " 'feature_names': ['age',\n",
              "  'sex',\n",
              "  'bmi',\n",
              "  'bp',\n",
              "  's1',\n",
              "  's2',\n",
              "  's3',\n",
              "  's4',\n",
              "  's5',\n",
              "  's6'],\n",
              " 'target': array([151.,  75., 141., 206., 135.,  97., 138.,  63., 110., 310., 101.,\n",
              "         69., 179., 185., 118., 171., 166., 144.,  97., 168.,  68.,  49.,\n",
              "         68., 245., 184., 202., 137.,  85., 131., 283., 129.,  59., 341.,\n",
              "         87.,  65., 102., 265., 276., 252.,  90., 100.,  55.,  61.,  92.,\n",
              "        259.,  53., 190., 142.,  75., 142., 155., 225.,  59., 104., 182.,\n",
              "        128.,  52.,  37., 170., 170.,  61., 144.,  52., 128.,  71., 163.,\n",
              "        150.,  97., 160., 178.,  48., 270., 202., 111.,  85.,  42., 170.,\n",
              "        200., 252., 113., 143.,  51.,  52., 210.,  65., 141.,  55., 134.,\n",
              "         42., 111.,  98., 164.,  48.,  96.,  90., 162., 150., 279.,  92.,\n",
              "         83., 128., 102., 302., 198.,  95.,  53., 134., 144., 232.,  81.,\n",
              "        104.,  59., 246., 297., 258., 229., 275., 281., 179., 200., 200.,\n",
              "        173., 180.,  84., 121., 161.,  99., 109., 115., 268., 274., 158.,\n",
              "        107.,  83., 103., 272.,  85., 280., 336., 281., 118., 317., 235.,\n",
              "         60., 174., 259., 178., 128.,  96., 126., 288.,  88., 292.,  71.,\n",
              "        197., 186.,  25.,  84.,  96., 195.,  53., 217., 172., 131., 214.,\n",
              "         59.,  70., 220., 268., 152.,  47.,  74., 295., 101., 151., 127.,\n",
              "        237., 225.,  81., 151., 107.,  64., 138., 185., 265., 101., 137.,\n",
              "        143., 141.,  79., 292., 178.,  91., 116.,  86., 122.,  72., 129.,\n",
              "        142.,  90., 158.,  39., 196., 222., 277.,  99., 196., 202., 155.,\n",
              "         77., 191.,  70.,  73.,  49.,  65., 263., 248., 296., 214., 185.,\n",
              "         78.,  93., 252., 150.,  77., 208.,  77., 108., 160.,  53., 220.,\n",
              "        154., 259.,  90., 246., 124.,  67.,  72., 257., 262., 275., 177.,\n",
              "         71.,  47., 187., 125.,  78.,  51., 258., 215., 303., 243.,  91.,\n",
              "        150., 310., 153., 346.,  63.,  89.,  50.,  39., 103., 308., 116.,\n",
              "        145.,  74.,  45., 115., 264.,  87., 202., 127., 182., 241.,  66.,\n",
              "         94., 283.,  64., 102., 200., 265.,  94., 230., 181., 156., 233.,\n",
              "         60., 219.,  80.,  68., 332., 248.,  84., 200.,  55.,  85.,  89.,\n",
              "         31., 129.,  83., 275.,  65., 198., 236., 253., 124.,  44., 172.,\n",
              "        114., 142., 109., 180., 144., 163., 147.,  97., 220., 190., 109.,\n",
              "        191., 122., 230., 242., 248., 249., 192., 131., 237.,  78., 135.,\n",
              "        244., 199., 270., 164.,  72.,  96., 306.,  91., 214.,  95., 216.,\n",
              "        263., 178., 113., 200., 139., 139.,  88., 148.,  88., 243.,  71.,\n",
              "         77., 109., 272.,  60.,  54., 221.,  90., 311., 281., 182., 321.,\n",
              "         58., 262., 206., 233., 242., 123., 167.,  63., 197.,  71., 168.,\n",
              "        140., 217., 121., 235., 245.,  40.,  52., 104., 132.,  88.,  69.,\n",
              "        219.,  72., 201., 110.,  51., 277.,  63., 118.,  69., 273., 258.,\n",
              "         43., 198., 242., 232., 175.,  93., 168., 275., 293., 281.,  72.,\n",
              "        140., 189., 181., 209., 136., 261., 113., 131., 174., 257.,  55.,\n",
              "         84.,  42., 146., 212., 233.,  91., 111., 152., 120.,  67., 310.,\n",
              "         94., 183.,  66., 173.,  72.,  49.,  64.,  48., 178., 104., 132.,\n",
              "        220.,  57.]),\n",
              " 'target_filename': '/usr/local/lib/python3.7/dist-packages/sklearn/datasets/data/diabetes_target.csv.gz'}"
            ]
          },
          "metadata": {
            "tags": []
          },
          "execution_count": 3
        }
      ]
    },
    {
      "cell_type": "markdown",
      "metadata": {
        "id": "WYo17yOnnIq0"
      },
      "source": [
        "# Description of the Diabetes dataset"
      ]
    },
    {
      "cell_type": "code",
      "metadata": {
        "colab": {
          "base_uri": "https://localhost:8080/"
        },
        "id": "RfjKuTObnkdF",
        "outputId": "c00d2e02-574d-44bf-db7c-c450ec4033e1"
      },
      "source": [
        "print(diabetes.DESCR)"
      ],
      "execution_count": 4,
      "outputs": [
        {
          "output_type": "stream",
          "text": [
            ".. _diabetes_dataset:\n",
            "\n",
            "Diabetes dataset\n",
            "----------------\n",
            "\n",
            "Ten baseline variables, age, sex, body mass index, average blood\n",
            "pressure, and six blood serum measurements were obtained for each of n =\n",
            "442 diabetes patients, as well as the response of interest, a\n",
            "quantitative measure of disease progression one year after baseline.\n",
            "\n",
            "**Data Set Characteristics:**\n",
            "\n",
            "  :Number of Instances: 442\n",
            "\n",
            "  :Number of Attributes: First 10 columns are numeric predictive values\n",
            "\n",
            "  :Target: Column 11 is a quantitative measure of disease progression one year after baseline\n",
            "\n",
            "  :Attribute Information:\n",
            "      - Age\n",
            "      - Sex\n",
            "      - Body mass index\n",
            "      - Average blood pressure\n",
            "      - S1\n",
            "      - S2\n",
            "      - S3\n",
            "      - S4\n",
            "      - S5\n",
            "      - S6\n",
            "\n",
            "Note: Each of these 10 feature variables have been mean centered and scaled by the standard deviation times `n_samples` (i.e. the sum of squares of each column totals 1).\n",
            "\n",
            "Source URL:\n",
            "https://www4.stat.ncsu.edu/~boos/var.select/diabetes.html\n",
            "\n",
            "For more information see:\n",
            "Bradley Efron, Trevor Hastie, Iain Johnstone and Robert Tibshirani (2004) \"Least Angle Regression,\" Annals of Statistics (with discussion), 407-499.\n",
            "(https://web.stanford.edu/~hastie/Papers/LARS/LeastAngle_2002.pdf)\n"
          ],
          "name": "stdout"
        }
      ]
    },
    {
      "cell_type": "markdown",
      "metadata": {
        "id": "qlBhMi0Jnu5w"
      },
      "source": [
        "# Feature Names"
      ]
    },
    {
      "cell_type": "code",
      "metadata": {
        "colab": {
          "base_uri": "https://localhost:8080/"
        },
        "id": "pjjGrZgwnzwv",
        "outputId": "67f8fe13-c3fa-4f71-cf9b-9e32108f2a86"
      },
      "source": [
        "print(diabetes.feature_names)"
      ],
      "execution_count": 5,
      "outputs": [
        {
          "output_type": "stream",
          "text": [
            "['age', 'sex', 'bmi', 'bp', 's1', 's2', 's3', 's4', 's5', 's6']\n"
          ],
          "name": "stdout"
        }
      ]
    },
    {
      "cell_type": "markdown",
      "metadata": {
        "id": "HD12CP8noPkG"
      },
      "source": [
        "# Create X and Y data matrices"
      ]
    },
    {
      "cell_type": "code",
      "metadata": {
        "id": "3zFiG0U_oX1l"
      },
      "source": [
        "X = diabetes.data\n",
        "Y = diabetes.target"
      ],
      "execution_count": 6,
      "outputs": []
    },
    {
      "cell_type": "code",
      "metadata": {
        "colab": {
          "base_uri": "https://localhost:8080/"
        },
        "id": "qwZwVnbCocJ7",
        "outputId": "d30a1aa5-1a85-47c8-96ed-262707da972e"
      },
      "source": [
        "X.shape, Y.shape"
      ],
      "execution_count": 7,
      "outputs": [
        {
          "output_type": "execute_result",
          "data": {
            "text/plain": [
              "((442, 10), (442,))"
            ]
          },
          "metadata": {
            "tags": []
          },
          "execution_count": 7
        }
      ]
    },
    {
      "cell_type": "markdown",
      "metadata": {
        "id": "u5KSfYCuouWT"
      },
      "source": [
        "# Load dataset + Create X and Y data matrices (in Step 1)"
      ]
    },
    {
      "cell_type": "code",
      "metadata": {
        "id": "xdsgnbxVpPDQ"
      },
      "source": [
        "X,Y = datasets.load_diabetes(return_X_y=True)"
      ],
      "execution_count": 8,
      "outputs": []
    },
    {
      "cell_type": "code",
      "metadata": {
        "colab": {
          "base_uri": "https://localhost:8080/"
        },
        "id": "ED1r394hpe4w",
        "outputId": "7d618a08-23ca-4f38-a0cb-eda9daa3e535"
      },
      "source": [
        "X.shape, Y.shape"
      ],
      "execution_count": 9,
      "outputs": [
        {
          "output_type": "execute_result",
          "data": {
            "text/plain": [
              "((442, 10), (442,))"
            ]
          },
          "metadata": {
            "tags": []
          },
          "execution_count": 9
        }
      ]
    },
    {
      "cell_type": "markdown",
      "metadata": {
        "id": "bT1Ihh8Bp-dl"
      },
      "source": [
        "# Data split"
      ]
    },
    {
      "cell_type": "markdown",
      "metadata": {
        "id": "KH0AMVTqqCuc"
      },
      "source": [
        "# Import library"
      ]
    },
    {
      "cell_type": "code",
      "metadata": {
        "id": "kDJ-0MH4qLD1"
      },
      "source": [
        "from sklearn.model_selection import train_test_split"
      ],
      "execution_count": 10,
      "outputs": []
    },
    {
      "cell_type": "markdown",
      "metadata": {
        "id": "Rtk8x4n3qWUv"
      },
      "source": [
        "# Perform 80/20 Data split"
      ]
    },
    {
      "cell_type": "code",
      "metadata": {
        "id": "80yA10CZqw8S"
      },
      "source": [
        "X_train, X_test, Y_train, Y_test = train_test_split (X, Y, test_size=0.2)"
      ],
      "execution_count": 11,
      "outputs": []
    },
    {
      "cell_type": "markdown",
      "metadata": {
        "id": "igDPnDlCrBkH"
      },
      "source": [
        "# Data dimension"
      ]
    },
    {
      "cell_type": "code",
      "metadata": {
        "colab": {
          "base_uri": "https://localhost:8080/"
        },
        "id": "Jv_A2s1ArIad",
        "outputId": "f4736a87-6e3e-4f21-e8da-c12330b8cfaa"
      },
      "source": [
        "X_train.shape, Y_train.shape"
      ],
      "execution_count": 12,
      "outputs": [
        {
          "output_type": "execute_result",
          "data": {
            "text/plain": [
              "((353, 10), (353,))"
            ]
          },
          "metadata": {
            "tags": []
          },
          "execution_count": 12
        }
      ]
    },
    {
      "cell_type": "code",
      "metadata": {
        "colab": {
          "base_uri": "https://localhost:8080/"
        },
        "id": "Z1RpwppBrVVx",
        "outputId": "399909bc-c0b8-452a-dc8d-dd9f0de7dda0"
      },
      "source": [
        "X_test.shape, Y_test.shape"
      ],
      "execution_count": 13,
      "outputs": [
        {
          "output_type": "execute_result",
          "data": {
            "text/plain": [
              "((89, 10), (89,))"
            ]
          },
          "metadata": {
            "tags": []
          },
          "execution_count": 13
        }
      ]
    },
    {
      "cell_type": "markdown",
      "metadata": {
        "id": "HaU6zdNfrmHg"
      },
      "source": [
        "# Linear Regression Model"
      ]
    },
    {
      "cell_type": "markdown",
      "metadata": {
        "id": "bvjBHeUtrsdJ"
      },
      "source": [
        "# Import library"
      ]
    },
    {
      "cell_type": "code",
      "metadata": {
        "id": "1dmR7gTisLYJ"
      },
      "source": [
        "from sklearn import linear_model\n",
        "from sklearn.metrics import mean_squared_error, r2_score"
      ],
      "execution_count": 14,
      "outputs": []
    },
    {
      "cell_type": "markdown",
      "metadata": {
        "id": "rqZgUkE_s0QW"
      },
      "source": [
        "# Build linear regression"
      ]
    },
    {
      "cell_type": "markdown",
      "metadata": {
        "id": "8YHJMzLLs8IQ"
      },
      "source": [
        "# Defines the regression model"
      ]
    },
    {
      "cell_type": "code",
      "metadata": {
        "id": "_zbkd_YLtB5M"
      },
      "source": [
        "model = linear_model.LinearRegression()"
      ],
      "execution_count": 15,
      "outputs": []
    },
    {
      "cell_type": "markdown",
      "metadata": {
        "id": "7Icg-XRQuT-R"
      },
      "source": [
        "# Build training model"
      ]
    },
    {
      "cell_type": "code",
      "metadata": {
        "colab": {
          "base_uri": "https://localhost:8080/"
        },
        "id": "MMnLuF2xuZDh",
        "outputId": "efe61102-a0d3-4bb3-9de1-e2cef2bc1f65"
      },
      "source": [
        "model.fit (X_train, Y_train)"
      ],
      "execution_count": 16,
      "outputs": [
        {
          "output_type": "execute_result",
          "data": {
            "text/plain": [
              "LinearRegression(copy_X=True, fit_intercept=True, n_jobs=None, normalize=False)"
            ]
          },
          "metadata": {
            "tags": []
          },
          "execution_count": 16
        }
      ]
    },
    {
      "cell_type": "markdown",
      "metadata": {
        "id": "YpEq7GqyvGq0"
      },
      "source": [
        "# Apply trained model to make predition (on test set)"
      ]
    },
    {
      "cell_type": "code",
      "metadata": {
        "id": "x225YMRvvOWd"
      },
      "source": [
        "Y_pred = model.predict(X_test)"
      ],
      "execution_count": 17,
      "outputs": []
    },
    {
      "cell_type": "markdown",
      "metadata": {
        "id": "RdQKF-YAvcWY"
      },
      "source": [
        "# Print model performance"
      ]
    },
    {
      "cell_type": "code",
      "metadata": {
        "colab": {
          "base_uri": "https://localhost:8080/"
        },
        "id": "b5sXirPuviJ7",
        "outputId": "04cce715-a6d6-4a45-a892-c42f5ff14e97"
      },
      "source": [
        "print('Coefficints:',model.coef_)\n",
        "print('Intercept:', model.intercept_)\n",
        "print('Mean squared error (MSE): %.2f'\n",
        "      % mean_squared_error(Y_test, Y_pred))\n",
        "print('Coefficient of determination (R^2): %.2f'\n",
        "      % r2_score(Y_test, Y_pred))"
      ],
      "execution_count": 18,
      "outputs": [
        {
          "output_type": "stream",
          "text": [
            "Coefficints: [ -26.21111635 -193.29539279  505.60205904  367.03206198 -841.90132777\n",
            "  506.12252297  136.71395943  237.04492375  750.77831068   25.62777363]\n",
            "Intercept: 148.44360278240833\n",
            "Mean squared error (MSE): 3160.72\n",
            "Coefficient of determination (R^2): 0.44\n"
          ],
          "name": "stdout"
        }
      ]
    },
    {
      "cell_type": "markdown",
      "metadata": {
        "id": "pty_2U-_xMgh"
      },
      "source": [
        "# String formatting"
      ]
    },
    {
      "cell_type": "markdown",
      "metadata": {
        "id": "a8cybiGsxSwF"
      },
      "source": [
        "By default r2_score returns a floating number"
      ]
    },
    {
      "cell_type": "code",
      "metadata": {
        "colab": {
          "base_uri": "https://localhost:8080/"
        },
        "id": "SZjeWm7rxZNR",
        "outputId": "a4905a8e-2117-49ff-cfa0-e30cf1d9a45e"
      },
      "source": [
        "r2_score(Y_test, Y_pred)"
      ],
      "execution_count": 19,
      "outputs": [
        {
          "output_type": "execute_result",
          "data": {
            "text/plain": [
              "0.4404635053504714"
            ]
          },
          "metadata": {
            "tags": []
          },
          "execution_count": 19
        }
      ]
    },
    {
      "cell_type": "code",
      "metadata": {
        "colab": {
          "base_uri": "https://localhost:8080/"
        },
        "id": "dr9PgLywxi22",
        "outputId": "e68ef5ad-5dde-4d30-847f-683d820fa108"
      },
      "source": [
        "r2_score(Y_test, Y_pred).dtype"
      ],
      "execution_count": 20,
      "outputs": [
        {
          "output_type": "execute_result",
          "data": {
            "text/plain": [
              "dtype('float64')"
            ]
          },
          "metadata": {
            "tags": []
          },
          "execution_count": 20
        }
      ]
    },
    {
      "cell_type": "markdown",
      "metadata": {
        "id": "7z9jP7oxx5fm"
      },
      "source": [
        "using modulo operatot to format the numbers by rounding it off"
      ]
    },
    {
      "cell_type": "code",
      "metadata": {
        "colab": {
          "base_uri": "https://localhost:8080/",
          "height": 35
        },
        "id": "yp0rXc_PyDTL",
        "outputId": "0bd9b9fb-321e-4cd4-e659-3bec0e486645"
      },
      "source": [
        "'%f'% 0.523810833536016"
      ],
      "execution_count": 21,
      "outputs": [
        {
          "output_type": "execute_result",
          "data": {
            "application/vnd.google.colaboratory.intrinsic+json": {
              "type": "string"
            },
            "text/plain": [
              "'0.523811'"
            ]
          },
          "metadata": {
            "tags": []
          },
          "execution_count": 21
        }
      ]
    },
    {
      "cell_type": "markdown",
      "metadata": {
        "id": "MsiDrmACyaPJ"
      },
      "source": [
        "We will now round it off to 3 digits"
      ]
    },
    {
      "cell_type": "code",
      "metadata": {
        "colab": {
          "base_uri": "https://localhost:8080/",
          "height": 35
        },
        "id": "NugNv46-yfte",
        "outputId": "dd7c381a-ee5d-4b69-f8a6-46ae567263a7"
      },
      "source": [
        "'%.3f' %0.523810833536016"
      ],
      "execution_count": 22,
      "outputs": [
        {
          "output_type": "execute_result",
          "data": {
            "application/vnd.google.colaboratory.intrinsic+json": {
              "type": "string"
            },
            "text/plain": [
              "'0.524'"
            ]
          },
          "metadata": {
            "tags": []
          },
          "execution_count": 22
        }
      ]
    },
    {
      "cell_type": "markdown",
      "metadata": {
        "id": "Cy_P9wDVyy67"
      },
      "source": [
        "We will round it off to 2 digits"
      ]
    },
    {
      "cell_type": "code",
      "metadata": {
        "colab": {
          "base_uri": "https://localhost:8080/",
          "height": 35
        },
        "id": "3B22BYUgy3p6",
        "outputId": "2e2ff5d2-e288-47ed-c7cd-fb7579b620b8"
      },
      "source": [
        "'%.2f' % 0.523810833536016"
      ],
      "execution_count": 23,
      "outputs": [
        {
          "output_type": "execute_result",
          "data": {
            "application/vnd.google.colaboratory.intrinsic+json": {
              "type": "string"
            },
            "text/plain": [
              "'0.52'"
            ]
          },
          "metadata": {
            "tags": []
          },
          "execution_count": 23
        }
      ]
    },
    {
      "cell_type": "markdown",
      "metadata": {
        "id": "HF2HcFDDzCEa"
      },
      "source": [
        "# Scatter plots"
      ]
    },
    {
      "cell_type": "markdown",
      "metadata": {
        "id": "hjjCP5YdzHXL"
      },
      "source": [
        "Import library"
      ]
    },
    {
      "cell_type": "code",
      "metadata": {
        "id": "6atn2nx8zMv4"
      },
      "source": [
        "import seaborn as sns"
      ],
      "execution_count": 24,
      "outputs": []
    },
    {
      "cell_type": "markdown",
      "metadata": {
        "id": "CooOC6IAzReN"
      },
      "source": [
        "# Make scatter plot "
      ]
    },
    {
      "cell_type": "markdown",
      "metadata": {
        "id": "qcupJA5CzX25"
      },
      "source": [
        "The Data"
      ]
    },
    {
      "cell_type": "code",
      "metadata": {
        "colab": {
          "base_uri": "https://localhost:8080/"
        },
        "id": "iyzd0XvGz12D",
        "outputId": "d0943a5c-fc76-475f-d0bf-de955b0eb5d5"
      },
      "source": [
        "Y_test"
      ],
      "execution_count": 25,
      "outputs": [
        {
          "output_type": "execute_result",
          "data": {
            "text/plain": [
              "array([ 91.,  88., 172.,  91., 158., 129.,  44., 277., 198., 128., 116.,\n",
              "       142., 200., 145., 127., 197.,  94., 118.,  83.,  51., 262.,  64.,\n",
              "       115.,  63.,  72., 206., 181., 170., 142., 101., 272., 214.,  47.,\n",
              "       212., 178., 120.,  63., 140.,  42., 155., 258., 180., 135.,  70.,\n",
              "       104.,  69., 174., 279.,  45., 150., 100., 270., 220., 216.,  96.,\n",
              "       306., 283., 252., 102., 219.,  72.,  84.,  48., 261., 144., 200.,\n",
              "        54., 162., 237., 168., 142.,  88., 297., 122., 114., 179., 170.,\n",
              "       230., 295.,  84., 101., 248.,  68.,  97., 113., 178., 346., 131.,\n",
              "       293.])"
            ]
          },
          "metadata": {
            "tags": []
          },
          "execution_count": 25
        }
      ]
    },
    {
      "cell_type": "code",
      "metadata": {
        "colab": {
          "base_uri": "https://localhost:8080/"
        },
        "id": "GglEQp7o0EoQ",
        "outputId": "79d93b3c-2c19-485c-92f4-83e26feae917"
      },
      "source": [
        "import numpy as np\n",
        "np.array (Y_test)"
      ],
      "execution_count": 26,
      "outputs": [
        {
          "output_type": "execute_result",
          "data": {
            "text/plain": [
              "array([ 91.,  88., 172.,  91., 158., 129.,  44., 277., 198., 128., 116.,\n",
              "       142., 200., 145., 127., 197.,  94., 118.,  83.,  51., 262.,  64.,\n",
              "       115.,  63.,  72., 206., 181., 170., 142., 101., 272., 214.,  47.,\n",
              "       212., 178., 120.,  63., 140.,  42., 155., 258., 180., 135.,  70.,\n",
              "       104.,  69., 174., 279.,  45., 150., 100., 270., 220., 216.,  96.,\n",
              "       306., 283., 252., 102., 219.,  72.,  84.,  48., 261., 144., 200.,\n",
              "        54., 162., 237., 168., 142.,  88., 297., 122., 114., 179., 170.,\n",
              "       230., 295.,  84., 101., 248.,  68.,  97., 113., 178., 346., 131.,\n",
              "       293.])"
            ]
          },
          "metadata": {
            "tags": []
          },
          "execution_count": 26
        }
      ]
    },
    {
      "cell_type": "code",
      "metadata": {
        "colab": {
          "base_uri": "https://localhost:8080/"
        },
        "id": "ll6QVBAv0QLJ",
        "outputId": "f25ae860-5a29-4324-b2c2-dd368966cc58"
      },
      "source": [
        "Y_pred"
      ],
      "execution_count": 27,
      "outputs": [
        {
          "output_type": "execute_result",
          "data": {
            "text/plain": [
              "array([177.30457034,  97.6589516 , 144.13117171,  90.75847312,\n",
              "        65.95922957, 190.36079441, 125.03110751, 174.54896899,\n",
              "       171.98322931,  94.08280316,  43.92979863, 137.11531807,\n",
              "       141.11147364, 120.53673148, 111.0878245 , 146.9148592 ,\n",
              "        96.62901059,  99.26213007, 121.94720985,  81.43698886,\n",
              "       169.79120639, 114.36092986, 127.62793297, 119.82221252,\n",
              "       103.09154905, 162.47821156,  78.74806141, 101.78382167,\n",
              "       105.86156956, 187.53791706, 188.29117455, 129.52642633,\n",
              "        44.40801749, 192.05215057, 114.68815876, 160.95617036,\n",
              "        48.30475601, 124.75749662,  73.39368454, 150.69223665,\n",
              "       166.86362135, 162.15170238, 100.11875436,  62.12041391,\n",
              "        34.9830192 ,  97.83012324, 177.74256156, 204.36406114,\n",
              "        34.8269287 , 119.97772265, 149.74275067, 232.28073529,\n",
              "       160.71354857, 170.9537225 , 113.00097665, 243.22311991,\n",
              "       179.49613922, 243.01157654, 106.50395825, 140.42044471,\n",
              "        48.95508377, 121.62904324, 189.79198444, 223.91083041,\n",
              "       118.57681261, 153.49483891,  95.8855951 , 117.7094692 ,\n",
              "       156.17738511, 118.33669593, 133.3656467 , 101.39756202,\n",
              "       205.25958855, 167.98476507,  83.58029486, 110.02112614,\n",
              "       131.37174057, 132.42980482, 215.44337435,  86.54292656,\n",
              "        93.27943278, 199.9855133 , 191.74978344, 142.29503172,\n",
              "       153.95644271, 191.98925512, 259.93746987, 120.15228773,\n",
              "       195.57243545])"
            ]
          },
          "metadata": {
            "tags": []
          },
          "execution_count": 27
        }
      ]
    },
    {
      "cell_type": "markdown",
      "metadata": {
        "id": "z3rIMvw50Um0"
      },
      "source": [
        "# Making the scatter plot"
      ]
    },
    {
      "cell_type": "code",
      "metadata": {
        "colab": {
          "base_uri": "https://localhost:8080/",
          "height": 336
        },
        "id": "ON0iHycS0aKq",
        "outputId": "660f60c1-abcd-463c-a1fa-621b3f4343ca"
      },
      "source": [
        "sns.scatterplot(Y_test, Y_pred)"
      ],
      "execution_count": 28,
      "outputs": [
        {
          "output_type": "stream",
          "text": [
            "/usr/local/lib/python3.7/dist-packages/seaborn/_decorators.py:43: FutureWarning: Pass the following variables as keyword args: x, y. From version 0.12, the only valid positional argument will be `data`, and passing other arguments without an explicit keyword will result in an error or misinterpretation.\n",
            "  FutureWarning\n"
          ],
          "name": "stderr"
        },
        {
          "output_type": "execute_result",
          "data": {
            "text/plain": [
              "<matplotlib.axes._subplots.AxesSubplot at 0x7fa5a629d950>"
            ]
          },
          "metadata": {
            "tags": []
          },
          "execution_count": 28
        },
        {
          "output_type": "display_data",
          "data": {
            "image/png": "[encoded data removed]",
            "text/plain": [
              "<Figure size 432x288 with 1 Axes>"
            ]
          },
          "metadata": {
            "tags": [],
            "needs_background": "light"
          }
        }
      ]
    },
    {
      "cell_type": "code",
      "metadata": {
        "colab": {
          "base_uri": "https://localhost:8080/",
          "height": 336
        },
        "id": "lucVtrAB0jaP",
        "outputId": "48e1591f-348c-4f09-f5e2-e20149b1cff2"
      },
      "source": [
        "sns.scatterplot(Y_test, Y_pred, marker=\"+\")"
      ],
      "execution_count": 29,
      "outputs": [
        {
          "output_type": "stream",
          "text": [
            "/usr/local/lib/python3.7/dist-packages/seaborn/_decorators.py:43: FutureWarning: Pass the following variables as keyword args: x, y. From version 0.12, the only valid positional argument will be `data`, and passing other arguments without an explicit keyword will result in an error or misinterpretation.\n",
            "  FutureWarning\n"
          ],
          "name": "stderr"
        },
        {
          "output_type": "execute_result",
          "data": {
            "text/plain": [
              "<matplotlib.axes._subplots.AxesSubplot at 0x7fa5a5724c10>"
            ]
          },
          "metadata": {
            "tags": []
          },
          "execution_count": 29
        },
        {
          "output_type": "display_data",
          "data": {
            "image/png": "[encoded data removed]",
            "text/plain": [
              "<Figure size 432x288 with 1 Axes>"
            ]
          },
          "metadata": {
            "tags": [],
            "needs_background": "light"
          }
        }
      ]
    },
    {
      "cell_type": "code",
      "metadata": {
        "colab": {
          "base_uri": "https://localhost:8080/",
          "height": 336
        },
        "id": "aUHrF3MT0xcS",
        "outputId": "b74c799a-aaa9-4804-c3ba-6445218e6994"
      },
      "source": [
        "sns.scatterplot(Y_test, Y_pred, alpha=0.5)"
      ],
      "execution_count": 30,
      "outputs": [
        {
          "output_type": "stream",
          "text": [
            "/usr/local/lib/python3.7/dist-packages/seaborn/_decorators.py:43: FutureWarning: Pass the following variables as keyword args: x, y. From version 0.12, the only valid positional argument will be `data`, and passing other arguments without an explicit keyword will result in an error or misinterpretation.\n",
            "  FutureWarning\n"
          ],
          "name": "stderr"
        },
        {
          "output_type": "execute_result",
          "data": {
            "text/plain": [
              "<matplotlib.axes._subplots.AxesSubplot at 0x7fa5a524bb10>"
            ]
          },
          "metadata": {
            "tags": []
          },
          "execution_count": 30
        },
        {
          "output_type": "display_data",
          "data": {
            "image/png": "[encoded data removed]",
            "text/plain": [
              "<Figure size 432x288 with 1 Axes>"
            ]
          },
          "metadata": {
            "tags": [],
            "needs_background": "light"
          }
        }
      ]
    }
  ]
}